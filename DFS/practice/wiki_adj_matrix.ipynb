{
 "cells": [
  {
   "cell_type": "code",
   "execution_count": null,
   "metadata": {},
   "outputs": [],
   "source": [
    "\"\"\"\n",
    "아래는 6*6 크기의 2차원 map이다.\n",
    "\n",
    "0|\t1\t2\t3\t4\t5\n",
    "-------------------------\n",
    "0|  1\t1\t1\t1\t1\n",
    "1|\t1\t\t\t\t1\n",
    "2|\t1\t\t1\t\t1\n",
    "3|\t1\t\t1\t\t\n",
    "4|\t\t\t1\t1\t\n",
    "5|\t1\t1\t1\t1\t1\n",
    "\n",
    "이 때, 1은 벽이므로 못 지나가고, 빈칸은 \"0\"으로 지나갈 수 있는 길이다.\n",
    "\n",
    "[문제] (0,0)에서 (5,5)로 이동하는 DFS 탐색 해보기\n",
    "[입력]\n",
    "6 6             <= !!세로!!, 가로 크기\n",
    "0 1 1 1 1 1\n",
    "0 1 0 0 0 1\n",
    "0 1 0 1 0 1\n",
    "0 1 0 1 0 0 \n",
    "0 0 0 1 1 0\n",
    "1 1 1 1 1 0\n",
    "\"\"\""
   ]
  },
  {
   "cell_type": "code",
   "execution_count": null,
   "metadata": {},
   "outputs": [],
   "source": [
    "N, M = map(int, input().split())\n",
    "arr = []\n",
    "for _ in range(N):\n",
    "    "
   ]
  },
  {
   "cell_type": "code",
   "execution_count": null,
   "metadata": {},
   "outputs": [],
   "source": []
  }
 ],
 "metadata": {
  "kernelspec": {
   "display_name": "Python 3",
   "language": "python",
   "name": "python3"
  },
  "language_info": {
   "name": "python",
   "version": "3.10.11"
  }
 },
 "nbformat": 4,
 "nbformat_minor": 2
}
